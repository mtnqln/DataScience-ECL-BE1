{
 "cells": [
  {
   "cell_type": "code",
   "execution_count": 4,
   "id": "2d3bdac1-3022-4212-b371-6f786c9e957e",
   "metadata": {
    "execution": {
     "iopub.execute_input": "2025-10-14T09:01:24.086182Z",
     "iopub.status.busy": "2025-10-14T09:01:24.085229Z",
     "iopub.status.idle": "2025-10-14T09:01:24.134707Z",
     "shell.execute_reply": "2025-10-14T09:01:24.132211Z",
     "shell.execute_reply.started": "2025-10-14T09:01:24.086159Z"
    }
   },
   "outputs": [
    {
     "name": "stdout",
     "output_type": "stream",
     "text": [
      "The autoreload extension is already loaded. To reload it, use:\n",
      "  %reload_ext autoreload\n"
     ]
    }
   ],
   "source": [
    "%load_ext autoreload\n",
    "%autoreload 2"
   ]
  },
  {
   "cell_type": "code",
   "execution_count": 5,
   "id": "6fa858bd-dc91-462a-8514-c627588687f7",
   "metadata": {
    "execution": {
     "iopub.execute_input": "2025-10-14T09:01:25.307623Z",
     "iopub.status.busy": "2025-10-14T09:01:25.307353Z",
     "iopub.status.idle": "2025-10-14T09:01:25.325081Z",
     "shell.execute_reply": "2025-10-14T09:01:25.322591Z",
     "shell.execute_reply.started": "2025-10-14T09:01:25.307605Z"
    }
   },
   "outputs": [],
   "source": [
    "import pandas as pd\n",
    "\n",
    "def read_ds(ds_name: str):\n",
    "    with open(f'data/{ds_name}.csv') as f:\n",
    "        max_actions = max(( len( str(c).split(\",\")) for c in f.readlines() ))\n",
    "        f.seek(0)\n",
    "        _names = [\"util\", \"navigateur\"] if \"train\" in ds_name else [\"navigateur\"]\n",
    "        _names.extend(range(max_actions - len(_names)))\n",
    "        return pd.read_csv(f, names=_names, dtype= str)"
   ]
  },
  {
   "cell_type": "code",
   "execution_count": 6,
   "id": "4a53b1e1-f417-4139-ab46-d835b09ffe8b",
   "metadata": {
    "execution": {
     "iopub.execute_input": "2025-10-14T09:01:26.260538Z",
     "iopub.status.busy": "2025-10-14T09:01:26.260104Z",
     "iopub.status.idle": "2025-10-14T09:01:42.833963Z",
     "shell.execute_reply": "2025-10-14T09:01:42.832341Z",
     "shell.execute_reply.started": "2025-10-14T09:01:26.260515Z"
    }
   },
   "outputs": [
    {
     "data": {
      "text/plain": [
       "((3279, 14470), (324, 7726))"
      ]
     },
     "execution_count": 6,
     "metadata": {},
     "output_type": "execute_result"
    }
   ],
   "source": [
    "features_train = read_ds(\"train\")\n",
    "features_test = read_ds(\"test\")\n",
    "features_train.shape, features_test.shape"
   ]
  },
  {
   "cell_type": "code",
   "execution_count": null,
   "id": "86d9b7a9-396d-4edf-a378-60650cf455c9",
   "metadata": {},
   "outputs": [],
   "source": []
  }
 ],
 "metadata": {
  "kernelspec": {
   "display_name": "Python 3 (ipykernel)",
   "language": "python",
   "name": "python3"
  },
  "language_info": {
   "codemirror_mode": {
    "name": "ipython",
    "version": 3
   },
   "file_extension": ".py",
   "mimetype": "text/x-python",
   "name": "python",
   "nbconvert_exporter": "python",
   "pygments_lexer": "ipython3",
   "version": "3.13.7"
  }
 },
 "nbformat": 4,
 "nbformat_minor": 5
}
