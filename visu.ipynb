{
 "cells": [
  {
   "cell_type": "code",
   "execution_count": 2,
   "id": "2d3bdac1-3022-4212-b371-6f786c9e957e",
   "metadata": {
    "execution": {
     "iopub.execute_input": "2025-10-14T09:31:21.991376Z",
     "iopub.status.busy": "2025-10-14T09:31:21.991106Z",
     "iopub.status.idle": "2025-10-14T09:31:22.330524Z",
     "shell.execute_reply": "2025-10-14T09:31:22.328704Z",
     "shell.execute_reply.started": "2025-10-14T09:31:21.991356Z"
    }
   },
   "outputs": [],
   "source": [
    "%load_ext autoreload\n",
    "%autoreload 2"
   ]
  },
  {
   "cell_type": "code",
   "execution_count": 3,
   "id": "6fa858bd-dc91-462a-8514-c627588687f7",
   "metadata": {
    "execution": {
     "iopub.execute_input": "2025-10-14T09:31:22.802610Z",
     "iopub.status.busy": "2025-10-14T09:31:22.801949Z",
     "iopub.status.idle": "2025-10-14T09:31:23.126118Z",
     "shell.execute_reply": "2025-10-14T09:31:23.123897Z",
     "shell.execute_reply.started": "2025-10-14T09:31:22.802568Z"
    }
   },
   "outputs": [],
   "source": [
    "import pandas as pd\n",
    "\n",
    "def read_ds(ds_name: str):\n",
    "    with open(f'data/{ds_name}.csv') as f:\n",
    "        max_actions = max(( len( str(c).split(\",\")) for c in f.readlines() ))\n",
    "        f.seek(0)\n",
    "        _names = [\"util\", \"navigateur\"] if \"train\" in ds_name else [\"navigateur\"]\n",
    "        _names.extend(range(max_actions - len(_names)))\n",
    "        return pd.read_csv(f, names=_names, dtype= str)"
   ]
  },
  {
   "cell_type": "code",
   "execution_count": 4,
   "id": "4a53b1e1-f417-4139-ab46-d835b09ffe8b",
   "metadata": {
    "execution": {
     "iopub.execute_input": "2025-10-14T09:31:23.579201Z",
     "iopub.status.busy": "2025-10-14T09:31:23.578880Z",
     "iopub.status.idle": "2025-10-14T09:31:40.170037Z",
     "shell.execute_reply": "2025-10-14T09:31:40.168425Z",
     "shell.execute_reply.started": "2025-10-14T09:31:23.579184Z"
    }
   },
   "outputs": [
    {
     "data": {
      "text/plain": [
       "((3279, 14470), (324, 7726))"
      ]
     },
     "execution_count": 4,
     "metadata": {},
     "output_type": "execute_result"
    }
   ],
   "source": [
    "features_train = read_ds(\"train\")\n",
    "features_test = read_ds(\"test\")\n",
    "features_train.shape, features_test.shape"
   ]
  },
  {
   "cell_type": "code",
   "execution_count": 5,
   "id": "86d9b7a9-396d-4edf-a378-60650cf455c9",
   "metadata": {
    "execution": {
     "iopub.execute_input": "2025-10-14T09:31:40.172373Z",
     "iopub.status.busy": "2025-10-14T09:31:40.172032Z",
     "iopub.status.idle": "2025-10-14T09:31:40.196511Z",
     "shell.execute_reply": "2025-10-14T09:31:40.193823Z",
     "shell.execute_reply.started": "2025-10-14T09:31:40.172354Z"
    }
   },
   "outputs": [],
   "source": [
    "import warnings\n",
    "from IPython.display import display, Markdown\n",
    "\n",
    "# décorateurs utilitaires pour supprimer les avertissements de la sortie et imprimer un cadre de données dans un tableau Markdown.\n",
    "def ignore_warnings(f):\n",
    "    def _f(*args, **kwargs):\n",
    "        warnings.filterwarnings('ignore')\n",
    "        v = f(*args, **kwargs)\n",
    "        warnings.filterwarnings('default')\n",
    "        return v\n",
    "    return _f\n",
    "\n",
    "# affiche un DataFrame Pandas sous forme de tableau Markdown dans un notebook Jupyter.\n",
    "def markdown_table(headNtail=False, use_index=True, title=None, precision=2):\n",
    "    def _get_value(val): return str(round(val, precision) if isinstance(val, float) else val)\n",
    "    def _format_row(row): \n",
    "        row_str = \"\"\n",
    "        if use_index: row_str += f\"|{str(row.name)}\"\n",
    "        for value in row.values: row_str += f\"| {_get_value(value)}\"\n",
    "        return row_str + \"|\"\n",
    "    def _get_str(df):\n",
    "        return \"\\n\".join(df.apply(_format_row, axis=1))\n",
    "    def _deco(f):\n",
    "        def _f(*args, **kwargs):\n",
    "            df = f(*args, **kwargs)\n",
    "            _str = f\"#### {title}\\n\" if title else \"\"\n",
    "            header = ([str(df.index.name)] if use_index else []) + df.columns.astype(str).to_list() \n",
    "            _str += f\"|{'|'.join(header)}|\" + f\"\\n|{'--|'*len(header)}\\n\" if header else None\n",
    "            if headNtail:\n",
    "                _str += _get_str(df.head())\n",
    "                _str += \"\\n|...|...|\\n\"\n",
    "                _str += _get_str(df.tail())\n",
    "            else:\n",
    "                _str += _get_str(df)\n",
    "            display(Markdown(_str))\n",
    "        return _f\n",
    "    return _deco\n",
    "\n",
    "# fonction utilitaire permettant d'obtenir une grille graphique à partir d'un nombre arbitraire de lignes/colonnes ou de données.\n",
    "def get_grid(n, n_row=None, n_col=None, titles=None, figsize=(10, 8), wspace=.5, hspace=.5, **kwargs):\n",
    "    if n_row: n_col= n_col or math.floor(n/n_row)\n",
    "    elif n_col: n_row= n_row or math.ceil(n/n_col)\n",
    "    else:\n",
    "        n_row = math.ceil(math.sqrt(n))\n",
    "        n_col = math.floor(n/n_row)\n",
    "    fig, axs = plt.subplots(n_row, n_col, figsize=figsize, **kwargs)\n",
    "    plt.subplots_adjust(hspace=hspace, wspace=wspace)\n",
    "    if titles is not None:\n",
    "        for ax, title in zip(axs.flat, titles): ax.set_title(title)\n",
    "    return fig, axs"
   ]
  },
  {
   "cell_type": "code",
   "execution_count": null,
   "id": "44ea3786-64ce-43c3-8a6f-aaaaf1bfeaab",
   "metadata": {},
   "outputs": [],
   "source": [
    "get_grid("
   ]
  }
 ],
 "metadata": {
  "kernelspec": {
   "display_name": "Python 3 (ipykernel)",
   "language": "python",
   "name": "python3"
  },
  "language_info": {
   "codemirror_mode": {
    "name": "ipython",
    "version": 3
   },
   "file_extension": ".py",
   "mimetype": "text/x-python",
   "name": "python",
   "nbconvert_exporter": "python",
   "pygments_lexer": "ipython3",
   "version": "3.13.7"
  }
 },
 "nbformat": 4,
 "nbformat_minor": 5
}
